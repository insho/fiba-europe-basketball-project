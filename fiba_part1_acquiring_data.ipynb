{
 "cells": [
  {
   "cell_type": "markdown",
   "metadata": {},
   "source": [
    "# Fiba Europe Machine Learning Project\n",
    "\n",
    "## Part 1: Acquiring Data\n",
    "\n",
    "\n",
    "There are two sites which make raw play-by-play data for Fiba basketball games available for download:\n",
    "\n",
    "1. Fiba Europe\n",
    "Ex: http://live.fibaeurope.com/www/playbyplay.aspx?gameid=60636&from=1\n",
    "Data Format: xml\n",
    "\n",
    "2. Fiba Live Stats \n",
    "Ex: http://www.fibalivestats.com/data/885490/data.json\n",
    "Data Format: json\n",
    "\n",
    "\n",
    "Fiba Europe seems to focus primarly on European games (as the title suggests), while Fiba Live Stats appears to include both European and \"World\" games. Many of these \"World\" leages/competitions are quite small indeed (think \"local amateur tournament in a high school gym in the phillipines\" etc). As such, this workbook will focus on ***Fiba Europe***\n",
    "\n",
    "\n",
    "### Important Note:\n",
    "\n",
    "*As of November 2019, www.fibalivestats.com appears to be down, or perhaps defunct (fibalivestats.com appears to still be working).*\n",
    "\n",
    "*I have left in the parts below relating to downloading a fiba basketball play-by-play xml file, in case the site ever comes back. In the meantime, to help demonstrate the data acquisition and processing steps, I've included some sample play-by-play files in the directory `fiba_europe_example`*\n"
   ]
  },
  {
   "cell_type": "markdown",
   "metadata": {},
   "source": [
    "### Downloading Some Matches\n",
    "\n",
    "Provided that you have a match ID for a given match, it is a simple thing to retrieve the XML file by plugging in the match ID in the \"gameid=\" parameter:\n",
    "\n",
    "(*Note that I use \"match id\" and \"game id\" interchangeably throughout this process*)\n",
    "\n",
    "So for example, if we are interested in match \"60636\", the link would look like so:\n",
    "\n",
    "http://live.fibaeurope.com/www/playbyplay.aspx?acc=1&gameid=60636&from=1\n",
    "\n"
   ]
  },
  {
   "cell_type": "code",
   "execution_count": 35,
   "metadata": {},
   "outputs": [
    {
     "name": "stdout",
     "output_type": "stream",
     "text": [
      "Unable to download match 60636 \n",
      "Error code: 404\n",
      "Reason: Not Found\n"
     ]
    }
   ],
   "source": [
    "\"\"\"\n",
    "Downloading a match\n",
    "\"\"\"\n",
    "import requests\n",
    "import os \n",
    "\n",
    "\n",
    "# Make a directory for our example downloads\n",
    "example_local_destination_directory = 'fiba_europe_example'\n",
    "\n",
    "if not os.path.exists(example_local_destination_directory):\n",
    "    os.makedirs(example_local_destination_directory)    \n",
    "    print(\"created directory: \" + example_local_destination_directory)\n",
    "    \n",
    "# now lets download a match    \n",
    "example_match_id = 60636\n",
    "url = 'http://live.fibaeurope.com/www/playbyplay.aspx?acc=1&gameid={matchid}&from=1'.format(matchid=str(example_match_id))\n",
    "response = requests.get(url)\n",
    "\n",
    "# check to see if response is valid\n",
    "if response.__dict__['status_code'] != 200:\n",
    "    print(\"Unable to download match {example_match_id} \".format(example_match_id=str(example_match_id)) )\n",
    "    print(\"Error code: {status_code}\".format(status_code=str(response.__dict__['status_code'] )))\n",
    "    print(\"Reason: {reason}\".format(reason=str(response.__dict__['reason'] )))\n",
    "else:    \n",
    "    with open(example_local_destination_directory + str(example_match_id) + '.xml', 'w+') as f:\n",
    "        f.write(response.text)\n",
    "    print(\"1 match downloaded\" )    \n"
   ]
  },
  {
   "cell_type": "code",
   "execution_count": 36,
   "metadata": {},
   "outputs": [
    {
     "data": {
      "text/plain": [
       "['61267.xml', '60680.xml', '60636.xml']"
      ]
     },
     "execution_count": 36,
     "metadata": {},
     "output_type": "execute_result"
    }
   ],
   "source": [
    "# in case the download failed, I have added some example play by play files here\n",
    "os.listdir(example_local_destination_directory) "
   ]
  },
  {
   "cell_type": "code",
   "execution_count": 1,
   "metadata": {},
   "outputs": [
    {
     "name": "stdout",
     "output_type": "stream",
     "text": [
      "<FE>\n",
      "\n",
      "  <HEADER competition=\"EuroChallenge\" round=\"Last Sixteen, Group L\" quarter=\"4\" time=\"FINAL\" logo=\"http://live.fibaeurope.com/www/gallery/C61B71F3-EC5A-4315-A20B-3AAEA3751891.jpg\" duration=\"15,6432\">\n",
      "\n",
      "    <TEAM name=\"TS Medical Park\" logo=\"http://www.fibaeurope.com/files/{6A8BCF6E-9977-4706-989E-B582089D3D40}logo_big.gif\" pts=\"76\" fouls=\"7\" />\n",
      "\n",
      "    <TEAM name=\"Mons-Hainaut\" logo=\"http://www.fibaeurope.com/files/{ECF8A606-44AF-4D55-B2B6-91F54B3977F8}logo_big.gif\" pts=\"68\" fouls=\"4\" />\n",
      "\n",
      "    <QUARTERS>\n",
      "\n",
      "      <QUARTER n=\"1\" scoreA=\"23\" scoreB=\"12\" time=\"100\" />\n",
      "\n",
      "      <QUARTER n=\"2\" scoreA=\"21\" scoreB=\"23\" time=\"100\" />\n",
      "\n",
      "      <QUARTER n=\"3\" scoreA=\"14\" scoreB=\"10\" time=\"100\" />\n",
      "\n",
      "      <QUARTER n=\"4\" scoreA=\"18\" scoreB=\"23\" time=\"100,00\" />\n",
      "\n",
      "    </QUARTERS>\n",
      "\n",
      "  </HEADER>\n",
      "\n",
      "  <TICKER text=\"J. Love [MON] - 10 rebounds\" duration=\"0\">\n",
      "\n",
      "    <ITEM text=\"TS Medical Park - 47,6% FT (10/21)\" />\n",
      "\n",
      "  </TICKER>\n",
      "\n",
      "  <OVERVIEW duration=\"46,8509\" />\n",
      "\n",
      "  <PLAYBYPLAY homeTeamImg=\"http://www.fibaeurope.com/files/{6A8BCF6E-9977-4706-989E-B582089D3D40}logo_big.gif\" homeTeamName=\"TS Medical Park\" awayTeamImg=\"http://www.fibaeurope.com/files/{ECF8A606-44AF-4D55-B2B6-91F54B3977F8}logo_big.gif\" awayTeamName=\"Mons-Hainaut\" duration=\"78,1434\">\n",
      "\n",
      "    <LINE num=\"301\" s1=\"\" s2=\"\" text=\"END OF GAME\" team=\"0\" time=\"00:00\" quarter=\"4\" s1Photo=\"\" s2Photo=\"\" s1Assists=\"\" s2Assists=\"\" />\n",
      "\n",
      "    <LINE num=\"300\" s1=\"\" s2=\"\" text=\"End of quarter 4\" team=\"0\" time=\"00:00\" quarter=\"4\" s1Photo=\"\" s2Photo=\"\" s1Assists=\"\" s2Assists=\"\" />\n",
      "\n",
      "    <LINE num=\"299\" s1=\"M. Bastürk - 2pt jump shot missed\" s2=\"\" text=\"[TRA] M. Bastürk - 2pt jump shot missed. Team defensive rebound\" team=\"1\" time=\"00:04\" quarter=\"4\" s1Photo=\"\" s2Photo=\"\" s1Assists=\"\" s2Assists=\"Team defensive rebound\" />\n",
      "\n",
      "    <LINE num=\"298\" s1=\"\" s2=\"M. Smith - free throw made (10 Pts)\" text=\"[MON] M. Smith - free throw made (10 Pts)\" team=\"2\" time=\"00:19\" quarter=\"4\" s1Photo=\"\" s2Photo=\"\" s1Assists=\"\" s2Assists=\"\" scoreA=\"76\" scoreB=\"68\" />\n",
      "\n",
      "    <LINE num=\"297\" s1=\"\" s2=\"M. Smith - free throw made (9 Pts)\" text=\"[MON] M. Smith - free throw made (9 Pts)\" team=\"2\" time=\"00:19\" quarter=\"4\" s1Photo=\"\" s2Photo=\"\" s1Assists=\"\" s2Assists=\"\" scoreA=\"76\" scoreB=\"67\" />\n",
      "\n",
      "    <LINE num=\"296\" s1=\"C. Altintig - personal shooting foul (3 PF, 7th team foul)\" s2=\"2 free throws awarded&lt;br /&gt;Foul drawn: M. Smith\" text=\"[TRA] C. Altintig - personal shooting foul (3 PF, 7th team foul). 2 free throws awarded. Foul drawn: M. Smith\" team=\"1\" time=\"00:19\" quarter=\"4\" s1Photo=\"\" s2Photo=\"\" s1Assists=\"\" s2Assists=\"\" />\n",
      "\n",
      "    <LINE num=\"295\" s1=\"M. Bastürk - 2pt jump shot missed\" s2=\"\" text=\"[TRA] M. Bastürk - 2pt jump shot missed. M. Smith - defensive rebound (4 REB)\" team=\"1\" time=\"00:23\" quarter=\"4\" s1Photo=\"\" s2Photo=\"\" s1Assists=\"\" s2Assists=\"M. Smith - defensive rebound (4 REB)\" />\n",
      "\n",
      "    <LINE num=\"294\" s1=\"\" s2=\"M. Smith - free throw missed\" text=\"[MON] M. Smith - free throw missed. N. Yildirim - defensive rebound (7 REB)\" team=\"2\" time=\"00:32\" quarter=\"4\" s1Photo=\"\" s2Photo=\"\" s1Assists=\"N. Yildirim - defensive rebound (7 REB)\" s2Assists=\"\" />\n",
      "\n",
      "    <LINE num=\"293\" s1=\"\" s2=\"M. Smith - free throw missed\" text=\"[MON] M. Smith - free throw missed\" team=\"2\" time=\"00:32\" quarter=\"4\" s1Photo=\"\" s2Photo=\"\" s1Assists=\"\" s2Assists=\"\" />\n",
      "\n",
      "    <LINE num=\"292\" s1=\"M. Bastürk - personal shooting foul (1 PF, 6th team foul)\" s2=\"2 free throws awarded&lt;br /&gt;Foul drawn: M. Smith\" text=\"[TRA] M. Bastürk - personal shooting foul (1 PF, 6th team foul). 2 free throws awarded. Foul drawn: M. Smith\" team=\"1\" time=\"00:32\" quarter=\"4\" s1Photo=\"\" s2Photo=\"\" s1Assists=\"\" s2Assists=\"\" />\n",
      "\n",
      "    <LINE num=\"291\" s1=\"D. Bost - 2pt jump shot missed\" s2=\"\" text=\"[TRA] D. Bost - 2pt jump shot missed. J. Cage - defensive rebound (7 REB)\" team=\"1\" time=\"00:37\" quarter=\"4\" s1Photo=\"\" s2Photo=\"\" s1Assists=\"\" s2Assists=\"J. Cage - defensive rebound (7 REB)\" />\n",
      "\n",
      "    <LINE num=\"290\" s1=\"\" s2=\"Substitution - A. Nichols OUT, &lt;br /&gt;M. Houdart IN\" text=\"[MON] Substitution - A. Nichols OUT, M. Houdart IN\" team=\"2\" time=\"00:46\" quarter=\"4\" s1Photo=\"\" s2Photo=\"\" s1Assists=\"\" s2Assists=\"\" />\n",
      "\n",
      "    <LINE num=\"289\" s1=\"Substitution - N. Velickovic OUT, &lt;br /&gt;H. Seckin IN\" s2=\"\" text=\"[TRA] Substitution - N. Velickovic OUT, H. Seckin IN\" team=\"1\" time=\"00:46\" quarter=\"4\" s1Photo=\"\" s2Photo=\"\" s1Assists=\"\" s2Assists=\"\" />\n",
      "\n",
      "    <LINE num=\"288\" s1=\"Substitution - S. Marshall OUT, &lt;br /&gt;M. Bastürk IN\" s2=\"\" text=\"[TRA] Substitution - S. Marshall OUT, M. Bastürk IN\" team=\"1\" time=\"00:46\" quarter=\"4\" s1Photo=\"\" s2Photo=\"\" s1Assists=\"\" s2Assists=\"\" />\n",
      "\n",
      "    <LINE num=\"287\" s1=\"N. Yildirim - 2pt jump shot blocked\" s2=\"\" text=\"[TRA] N. Yildirim - 2pt jump shot blocked. J. Billie - block (2 BS). Team offensive rebound\" team=\"1\" time=\"00:46\" quarter=\"4\" s1Photo=\"\" s2Photo=\"\" s1Assists=\"Team offensive rebound\" s2Assists=\"\" />\n",
      "\n",
      "    <LINE num=\"286\" s1=\"\" s2=\"J. Cage - free throw made (16 Pts)\" text=\"[MON] J. Cage - free throw made (16 Pts)\" team=\"2\" time=\"01:00\" quarter=\"4\" s1Photo=\"\" s2Photo=\"\" s1Assists=\"\" s2Assists=\"\" scoreA=\"76\" scoreB=\"66\" />\n",
      "\n",
      "    <LINE num=\"285\" s1=\"S. Marshall - personal shooting foul (4 PF, 5th team foul)\" s2=\"One free throw awarded&lt;br /&gt;Foul drawn: J. Cage\" text=\"[TRA] S. Marshall - personal shooting foul (4 PF, 5th team foul). One free throw awarded. Foul drawn: J. Cage\" team=\"1\" time=\"01:00\" quarter=\"4\" s1Photo=\"\" s2Photo=\"\" s1Assists=\"\" s2Assists=\"\" />\n",
      "\n",
      "    <LINE num=\"284\" s1=\"\" s2=\"J. Cage - 2pt jump shot made (15 Pts)\" text=\"[MON] J. Cage - 2pt jump shot made (15 Pts)\" team=\"2\" time=\"01:00\" quarter=\"4\" s1Photo=\"\" s2Photo=\"\" s1Assists=\"\" s2Assists=\"\" scoreA=\"76\" scoreB=\"65\" />\n",
      "\n",
      "    <LINE num=\"283\" s1=\"\" s2=\"A. Nichols - 3pt jump shot missed\" text=\"[MON] A. Nichols - 3pt jump shot missed. J. Cage - offensive rebound (6 REB)\" team=\"2\" time=\"01:00\" quarter=\"4\" s1Photo=\"\" s2Photo=\"\" s1Assists=\"\" s2Assists=\"J. Cage - offensive rebound (6 REB)\" />\n",
      "\n",
      "    <LINE num=\"282\" s1=\"S. Marshall - 3pt jump shot made (12 Pts)\" s2=\"\" text=\"[TRA] S. Marshall - 3pt jump shot made (12 Pts). C. Altintig - assist (6 AS)\" team=\"1\" time=\"01:15\" quarter=\"4\" s1Photo=\"\" s2Photo=\"\" s1Assists=\"C. Altintig - assist (6 AS)\" s2Assists=\"\" scoreA=\"76\" scoreB=\"63\" />\n",
      "\n",
      "    <LINE num=\"281\" s1=\"\" s2=\"L. Bosco - 2pt lay-up made (2 Pts)\" text=\"[MON] L. Bosco - 2pt lay-up made (2 Pts)\" team=\"2\" time=\"01:35\" quarter=\"4\" s1Photo=\"\" s2Photo=\"\" s1Assists=\"\" s2Assists=\"\" scoreA=\"73\" scoreB=\"63\" />\n",
      "\n",
      "    <LINE num=\"280\" s1=\"\" s2=\"J. Cage - 3pt jump shot missed\" text=\"[MON] J. Cage - 3pt jump shot missed. J. Billie - offensive rebound (2 REB)\" team=\"2\" time=\"01:46\" quarter=\"4\" s1Photo=\"\" s2Photo=\"\" s1Assists=\"\" s2Assists=\"J. Billie - offensive rebound (2 REB)\" />\n",
      "\n",
      "    <LINE num=\"279\" s1=\"\" s2=\"MON Timeout\" text=\"[MON] Timeout\" team=\"2\" time=\"02:12\" quarter=\"4\" s1Photo=\"\" s2Photo=\"\" s1Assists=\"\" s2Assists=\"\" />\n",
      "\n",
      "    <LINE num=\"278\" s1=\"N. Velickovic - 3pt jump shot missed\" s2=\"\" text=\"[TRA] N. Velickovic - 3pt jump shot missed. Team defensive rebound\" team=\"1\" time=\"02:14\" quarter=\"4\" s1Photo=\"\" s2Photo=\"\" s1Assists=\"\" s2Assists=\"Team defensive rebound\" />\n",
      "\n"
     ]
    }
   ],
   "source": [
    "#let's see a sample\n",
    "example_match_id = '60636'\n",
    "from itertools import islice\n",
    "f=open(\"fiba_europe_example/\" + str(example_match_id) + \".xml\", \"r\")\n",
    "flines = f.readlines()\n",
    "\n",
    "for line in islice(flines, 40):\n",
    "    print(line)\n",
    "        \n"
   ]
  },
  {
   "cell_type": "markdown",
   "metadata": {},
   "source": [
    "\n",
    "### Immediate Issues\n",
    "\n",
    "So (hopefully...) we are able to access play-by-play xml files. Great! However, we are then presented with a few challenges. \n",
    "\n",
    "**1. As far as I can tell, there is no single repository of fiba gameids**\n",
    "\n",
    "They can be retrieved using the link structure above, but it is necessary to know the gameid beforehand to access the data.\n",
    "\n",
    "[Here is a project with some match ids and leagues](https://github.com/bziarkowski/euRobasket). It's nice, and also provides some hard-to-find metadata about the matches (as well as accompanying R analysis, etc), but for the purposes of machine learning in bulk, we'll matches. \n",
    "\n",
    "I found the best (if slow, and extremely annoying) solution, was to slowly scrape the site over the course of several weeks, blindly downloading as many matches as I could. \n",
    "\n",
    "The end result was a collection of about 40,000 matches. \n",
    "\n",
    "**2. While the raw match files contain some metadata like competition name, location of the match and team names, there are NO DATES associated with these matches.**\n",
    "\n",
    "So, when did they occur, and in what sequence? This is not strictly necessary to create algorythms that rely on in-game information to predict outcomes, but I found it an annoyance and sought some solutions, wich can be found in [Part 3: \"Adding Metadata\"](fiba_part3_finding_additional_metadata.ipynb).\n",
    "\n",
    "**3. There is no clean metadata regarding the age group and sex of the players. Matches include all age groups, from U14 to professional, for both male and female athletes.**\n",
    "\n",
    "I was hoping to split out the algorythms by age and sex, so this too was frustrating. I also sought solutions to this issue. These too can be found in [Part 3: \"Adding Metadata\"](fiba_part3_finding_additional_metadata.ipynb).\n",
    "\n"
   ]
  },
  {
   "cell_type": "markdown",
   "metadata": {},
   "source": [
    "#### Next Steps:\n",
    "\n",
    "* Now that it is (or at least, was) possible to download raw play-by-play files, they must be processed into a form more conducive to data analysis. \n",
    "\n",
    "* This involves extracting what metadata there is in the file (there is some--team names, competition name, etc), then iterating through the play-by-play data and \"flattening\" the events occurring therein.\n",
    "\n",
    "* The result is a big flat dataframe with each aspect of each event split out into its own column\n",
    "\n",
    "**The data processing steps are in [Part 2: \"Processing Data\"](fiba_part2_process_data.ipynb)**\n"
   ]
  }
 ],
 "metadata": {
  "kernelspec": {
   "display_name": "Python 3",
   "language": "python",
   "name": "python3"
  },
  "language_info": {
   "codemirror_mode": {
    "name": "ipython",
    "version": 3
   },
   "file_extension": ".py",
   "mimetype": "text/x-python",
   "name": "python",
   "nbconvert_exporter": "python",
   "pygments_lexer": "ipython3",
   "version": "3.7.4"
  }
 },
 "nbformat": 4,
 "nbformat_minor": 2
}
